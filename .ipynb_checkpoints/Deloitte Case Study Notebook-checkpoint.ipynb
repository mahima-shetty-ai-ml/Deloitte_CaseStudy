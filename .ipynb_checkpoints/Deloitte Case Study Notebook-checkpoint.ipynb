{
 "cells": [
  {
   "cell_type": "markdown",
   "id": "cardiovascular-netherlands",
   "metadata": {},
   "source": [
    "# Airbnb Price Case Study Exploratory Data Analysis\n",
    "\n",
    "Airbnb is an online marketplace that connects people who want to rent out their homes with people who are looking for accommodations in that locale. Airbnb is the platform where this happens. It's part “sharing economy,” part entrepreneurship, part meeting people, and sharing experiences.\n",
    "The challenge statement was AirBNB price prediction.Some of the factors were property, room type, amenities, accommodates, bathroom, bed_type, etc.\n",
    "Using machine learning technique, proceeding with all factors leading to the price prediction to develop the model.\n"
   ]
  },
  {
   "cell_type": "code",
   "execution_count": 46,
   "id": "joined-coating",
   "metadata": {},
   "outputs": [],
   "source": [
    "import pandas as pd\n",
    "import numpy as np\n",
    "import matplotlib\n",
    "import matplotlib.pyplot as plt\n",
    "from datetime import datetime\n",
    "import seaborn as sns\n",
    "train_data = pd.read_csv('train.csv')\n",
    "test_data = pd.read_excel('test.xlsx')"
   ]
  },
  {
   "cell_type": "markdown",
   "id": "incoming-leone",
   "metadata": {},
   "source": [
    "# Evaluating the columns and its purpose\n"
   ]
  },
  {
   "cell_type": "code",
   "execution_count": 47,
   "id": "formed-reward",
   "metadata": {},
   "outputs": [
    {
     "data": {
      "text/html": [
       "<div>\n",
       "<style scoped>\n",
       "    .dataframe tbody tr th:only-of-type {\n",
       "        vertical-align: middle;\n",
       "    }\n",
       "\n",
       "    .dataframe tbody tr th {\n",
       "        vertical-align: top;\n",
       "    }\n",
       "\n",
       "    .dataframe thead th {\n",
       "        text-align: right;\n",
       "    }\n",
       "</style>\n",
       "<table border=\"1\" class=\"dataframe\">\n",
       "  <thead>\n",
       "    <tr style=\"text-align: right;\">\n",
       "      <th></th>\n",
       "      <th>id</th>\n",
       "      <th>property_type</th>\n",
       "      <th>room_type</th>\n",
       "      <th>amenities</th>\n",
       "      <th>accommodates</th>\n",
       "      <th>bathrooms</th>\n",
       "      <th>bed_type</th>\n",
       "      <th>cancellation_policy</th>\n",
       "      <th>cleaning_fee</th>\n",
       "      <th>city</th>\n",
       "      <th>...</th>\n",
       "      <th>name</th>\n",
       "      <th>neighbourhood</th>\n",
       "      <th>number_of_reviews</th>\n",
       "      <th>review_scores_rating</th>\n",
       "      <th>thumbnail_url</th>\n",
       "      <th>zipcode</th>\n",
       "      <th>bedrooms</th>\n",
       "      <th>beds</th>\n",
       "      <th>log_price</th>\n",
       "      <th></th>\n",
       "    </tr>\n",
       "  </thead>\n",
       "  <tbody>\n",
       "    <tr>\n",
       "      <th>0</th>\n",
       "      <td>6901257</td>\n",
       "      <td>Apartment</td>\n",
       "      <td>Entire home/apt</td>\n",
       "      <td>{\"Wireless Internet\",\"Air conditioning\",Kitche...</td>\n",
       "      <td>3</td>\n",
       "      <td>1.0</td>\n",
       "      <td>Real Bed</td>\n",
       "      <td>strict</td>\n",
       "      <td>True</td>\n",
       "      <td>NYC</td>\n",
       "      <td>...</td>\n",
       "      <td>Beautiful brownstone 1-bedroom</td>\n",
       "      <td>Brooklyn Heights</td>\n",
       "      <td>2</td>\n",
       "      <td>100.0</td>\n",
       "      <td>https://a0.muscache.com/im/pictures/6d7cbbf7-c...</td>\n",
       "      <td>11201</td>\n",
       "      <td>1.0</td>\n",
       "      <td>1.0</td>\n",
       "      <td>5.010635</td>\n",
       "      <td>NaN</td>\n",
       "    </tr>\n",
       "    <tr>\n",
       "      <th>1</th>\n",
       "      <td>6304928</td>\n",
       "      <td>Apartment</td>\n",
       "      <td>Entire home/apt</td>\n",
       "      <td>{\"Wireless Internet\",\"Air conditioning\",Kitche...</td>\n",
       "      <td>7</td>\n",
       "      <td>1.0</td>\n",
       "      <td>Real Bed</td>\n",
       "      <td>strict</td>\n",
       "      <td>True</td>\n",
       "      <td>NYC</td>\n",
       "      <td>...</td>\n",
       "      <td>Superb 3BR Apt Located Near Times Square</td>\n",
       "      <td>Hell's Kitchen</td>\n",
       "      <td>6</td>\n",
       "      <td>93.0</td>\n",
       "      <td>https://a0.muscache.com/im/pictures/348a55fe-4...</td>\n",
       "      <td>10019</td>\n",
       "      <td>3.0</td>\n",
       "      <td>3.0</td>\n",
       "      <td>5.129899</td>\n",
       "      <td>NaN</td>\n",
       "    </tr>\n",
       "    <tr>\n",
       "      <th>2</th>\n",
       "      <td>7919400</td>\n",
       "      <td>Apartment</td>\n",
       "      <td>Entire home/apt</td>\n",
       "      <td>{TV,\"Cable TV\",\"Wireless Internet\",\"Air condit...</td>\n",
       "      <td>5</td>\n",
       "      <td>1.0</td>\n",
       "      <td>Real Bed</td>\n",
       "      <td>moderate</td>\n",
       "      <td>True</td>\n",
       "      <td>NYC</td>\n",
       "      <td>...</td>\n",
       "      <td>The Garden Oasis</td>\n",
       "      <td>Harlem</td>\n",
       "      <td>10</td>\n",
       "      <td>92.0</td>\n",
       "      <td>https://a0.muscache.com/im/pictures/6fae5362-9...</td>\n",
       "      <td>10027</td>\n",
       "      <td>1.0</td>\n",
       "      <td>3.0</td>\n",
       "      <td>4.976734</td>\n",
       "      <td>NaN</td>\n",
       "    </tr>\n",
       "    <tr>\n",
       "      <th>3</th>\n",
       "      <td>13418779</td>\n",
       "      <td>House</td>\n",
       "      <td>Entire home/apt</td>\n",
       "      <td>{TV,\"Cable TV\",Internet,\"Wireless Internet\",Ki...</td>\n",
       "      <td>4</td>\n",
       "      <td>1.0</td>\n",
       "      <td>Real Bed</td>\n",
       "      <td>flexible</td>\n",
       "      <td>True</td>\n",
       "      <td>SF</td>\n",
       "      <td>...</td>\n",
       "      <td>Beautiful Flat in the Heart of SF!</td>\n",
       "      <td>Lower Haight</td>\n",
       "      <td>0</td>\n",
       "      <td>NaN</td>\n",
       "      <td>https://a0.muscache.com/im/pictures/72208dad-9...</td>\n",
       "      <td>94117</td>\n",
       "      <td>2.0</td>\n",
       "      <td>2.0</td>\n",
       "      <td>6.620073</td>\n",
       "      <td>NaN</td>\n",
       "    </tr>\n",
       "    <tr>\n",
       "      <th>4</th>\n",
       "      <td>3808709</td>\n",
       "      <td>Apartment</td>\n",
       "      <td>Entire home/apt</td>\n",
       "      <td>{TV,Internet,\"Wireless Internet\",\"Air conditio...</td>\n",
       "      <td>2</td>\n",
       "      <td>1.0</td>\n",
       "      <td>Real Bed</td>\n",
       "      <td>moderate</td>\n",
       "      <td>True</td>\n",
       "      <td>DC</td>\n",
       "      <td>...</td>\n",
       "      <td>Great studio in midtown DC</td>\n",
       "      <td>Columbia Heights</td>\n",
       "      <td>4</td>\n",
       "      <td>40.0</td>\n",
       "      <td>NaN</td>\n",
       "      <td>20009</td>\n",
       "      <td>0.0</td>\n",
       "      <td>1.0</td>\n",
       "      <td>4.744932</td>\n",
       "      <td>NaN</td>\n",
       "    </tr>\n",
       "  </tbody>\n",
       "</table>\n",
       "<p>5 rows × 30 columns</p>\n",
       "</div>"
      ],
      "text/plain": [
       "         id property_type        room_type  \\\n",
       "0   6901257     Apartment  Entire home/apt   \n",
       "1   6304928     Apartment  Entire home/apt   \n",
       "2   7919400     Apartment  Entire home/apt   \n",
       "3  13418779         House  Entire home/apt   \n",
       "4   3808709     Apartment  Entire home/apt   \n",
       "\n",
       "                                           amenities  accommodates  bathrooms  \\\n",
       "0  {\"Wireless Internet\",\"Air conditioning\",Kitche...             3        1.0   \n",
       "1  {\"Wireless Internet\",\"Air conditioning\",Kitche...             7        1.0   \n",
       "2  {TV,\"Cable TV\",\"Wireless Internet\",\"Air condit...             5        1.0   \n",
       "3  {TV,\"Cable TV\",Internet,\"Wireless Internet\",Ki...             4        1.0   \n",
       "4  {TV,Internet,\"Wireless Internet\",\"Air conditio...             2        1.0   \n",
       "\n",
       "   bed_type cancellation_policy  cleaning_fee city  ...  \\\n",
       "0  Real Bed              strict          True  NYC  ...   \n",
       "1  Real Bed              strict          True  NYC  ...   \n",
       "2  Real Bed            moderate          True  NYC  ...   \n",
       "3  Real Bed            flexible          True   SF  ...   \n",
       "4  Real Bed            moderate          True   DC  ...   \n",
       "\n",
       "                                       name     neighbourhood  \\\n",
       "0            Beautiful brownstone 1-bedroom  Brooklyn Heights   \n",
       "1  Superb 3BR Apt Located Near Times Square    Hell's Kitchen   \n",
       "2                          The Garden Oasis            Harlem   \n",
       "3        Beautiful Flat in the Heart of SF!      Lower Haight   \n",
       "4                Great studio in midtown DC  Columbia Heights   \n",
       "\n",
       "  number_of_reviews review_scores_rating  \\\n",
       "0                 2                100.0   \n",
       "1                 6                 93.0   \n",
       "2                10                 92.0   \n",
       "3                 0                  NaN   \n",
       "4                 4                 40.0   \n",
       "\n",
       "                                       thumbnail_url zipcode bedrooms beds  \\\n",
       "0  https://a0.muscache.com/im/pictures/6d7cbbf7-c...   11201      1.0  1.0   \n",
       "1  https://a0.muscache.com/im/pictures/348a55fe-4...   10019      3.0  3.0   \n",
       "2  https://a0.muscache.com/im/pictures/6fae5362-9...   10027      1.0  3.0   \n",
       "3  https://a0.muscache.com/im/pictures/72208dad-9...   94117      2.0  2.0   \n",
       "4                                                NaN   20009      0.0  1.0   \n",
       "\n",
       "   log_price      \n",
       "0   5.010635 NaN  \n",
       "1   5.129899 NaN  \n",
       "2   4.976734 NaN  \n",
       "3   6.620073 NaN  \n",
       "4   4.744932 NaN  \n",
       "\n",
       "[5 rows x 30 columns]"
      ]
     },
     "execution_count": 47,
     "metadata": {},
     "output_type": "execute_result"
    }
   ],
   "source": [
    "train_data.head()"
   ]
  },
  {
   "cell_type": "code",
   "execution_count": 48,
   "id": "driven-wildlife",
   "metadata": {},
   "outputs": [],
   "source": [
    "train_data.columns\n",
    "train_data = train_data.drop([' '], axis=1)\n",
    "test_data = test_data.drop([' '], axis = 1)"
   ]
  },
  {
   "cell_type": "code",
   "execution_count": 49,
   "id": "ruled-assistant",
   "metadata": {},
   "outputs": [],
   "source": [
    "test_data['log_price'] = np.nan"
   ]
  },
  {
   "cell_type": "markdown",
   "id": "tutorial-mills",
   "metadata": {},
   "source": [
    "## Converting \"host_since\" column into proper datetime format, filling up na values with forward fill and extracting only year and variable creation"
   ]
  },
  {
   "cell_type": "code",
   "execution_count": 50,
   "id": "crazy-genre",
   "metadata": {},
   "outputs": [],
   "source": [
    "train_data['host_since'] = pd.to_datetime(train_data['host_since'],format='%m/%d/%Y')\n",
    "train_data[\"host_year\"] = train_data['host_since'].dt.year\n",
    "\n",
    "test_data['host_since'] = pd.to_datetime(test_data['host_since'],format='%Y-%m-%d %H:%M:%S')\n",
    "test_data['host_year'] = test_data['host_since'].dt.year"
   ]
  },
  {
   "cell_type": "markdown",
   "id": "stuck-wagner",
   "metadata": {},
   "source": [
    "# Concatenating train and test data for data cleaning\n"
   ]
  },
  {
   "cell_type": "code",
   "execution_count": 51,
   "id": "democratic-rouge",
   "metadata": {
    "scrolled": true
   },
   "outputs": [
    {
     "name": "stdout",
     "output_type": "stream",
     "text": [
      "Index(['id', 'property_type', 'room_type', 'amenities', 'accommodates',\n",
      "       'bathrooms', 'bed_type', 'cancellation_policy', 'cleaning_fee', 'city',\n",
      "       'description', 'first_review', 'host_has_profile_pic',\n",
      "       'host_identity_verified', 'host_response_rate', 'host_since',\n",
      "       'instant_bookable', 'last_review', 'latitude', 'longitude', 'name',\n",
      "       'neighbourhood', 'number_of_reviews', 'review_scores_rating',\n",
      "       'thumbnail_url', 'zipcode', 'bedrooms', 'beds', 'log_price',\n",
      "       'host_year'],\n",
      "      dtype='object')\n",
      "Index(['id', 'property_type', 'room_type', 'amenities', 'accommodates',\n",
      "       'bathrooms', 'bed_type', 'cancellation_policy', 'cleaning_fee', 'city',\n",
      "       'description', 'first_review', 'host_has_profile_pic',\n",
      "       'host_identity_verified', 'host_response_rate', 'host_since',\n",
      "       'instant_bookable', 'last_review', 'latitude', 'longitude', 'name',\n",
      "       'neighbourhood', 'number_of_reviews', 'review_scores_rating',\n",
      "       'thumbnail_url', 'zipcode', 'bedrooms', 'beds', 'log_price',\n",
      "       'host_year'],\n",
      "      dtype='object')\n",
      "(49999, 30)\n",
      "(24111, 30)\n"
     ]
    }
   ],
   "source": [
    "print(train_data.columns)\n",
    "print(test_data.columns)\n",
    "print(train_data.shape)\n",
    "print(test_data.shape)"
   ]
  },
  {
   "cell_type": "code",
   "execution_count": 52,
   "id": "secondary-preserve",
   "metadata": {},
   "outputs": [],
   "source": [
    "train_data[\"remove\"] = 'train'\n",
    "test_data[\"remove\"] = 'test'"
   ]
  },
  {
   "cell_type": "code",
   "execution_count": 53,
   "id": "accompanied-booking",
   "metadata": {},
   "outputs": [],
   "source": [
    "frames = [train_data, test_data]\n",
    "result = pd.concat(frames, ignore_index=True)"
   ]
  },
  {
   "cell_type": "markdown",
   "id": "informational-opera",
   "metadata": {},
   "source": [
    "# Dropping unnecessary columns which are not of any use in the future"
   ]
  },
  {
   "cell_type": "code",
   "execution_count": 54,
   "id": "exceptional-medline",
   "metadata": {},
   "outputs": [],
   "source": [
    "result = result.drop(['id', 'description', 'first_review', 'last_review', 'thumbnail_url','name', 'host_since'], axis = 1) "
   ]
  },
  {
   "cell_type": "code",
   "execution_count": 55,
   "id": "consolidated-gather",
   "metadata": {},
   "outputs": [],
   "source": [
    "result = result.drop(['zipcode'], axis = 1) "
   ]
  },
  {
   "cell_type": "code",
   "execution_count": 56,
   "id": "judicial-founder",
   "metadata": {},
   "outputs": [],
   "source": [
    "result = result.drop(['neighbourhood'], axis = 1) "
   ]
  },
  {
   "cell_type": "code",
   "execution_count": 57,
   "id": "given-stupid",
   "metadata": {},
   "outputs": [],
   "source": [
    "result = result.drop(['latitude', 'longitude'], axis = 1) "
   ]
  },
  {
   "cell_type": "markdown",
   "id": "german-system",
   "metadata": {},
   "source": [
    "# Taking Next Step into Variable Creation and Feature Engineering\n",
    "\n",
    "The 'Amenities' Column had be taken further to making only certain important following amenities: Internet, AirConditioning, Kitchen, FamilyFamily, Essentials, TV, PetsFriendly, Breakfast and Smoke Detector."
   ]
  },
  {
   "cell_type": "code",
   "execution_count": 58,
   "id": "composite-pharmaceutical",
   "metadata": {},
   "outputs": [],
   "source": [
    "result['Internet'] = 0\n",
    "result['AirConditioning'] = 0\n",
    "result['Kitchen'] = 0\n",
    "result['FamilyFriendly'] = 0\n",
    "result['Essentials'] = 0\n",
    "result['TV'] = 0\n",
    "result['PetsFriendly'] = 0\n",
    "result['Breakfast'] = 0\n",
    "result['SmokeDetector'] = 0"
   ]
  },
  {
   "cell_type": "code",
   "execution_count": 59,
   "id": "behind-lobby",
   "metadata": {},
   "outputs": [],
   "source": [
    "result.loc[result['amenities'].str.contains('Family'), 'FamilyFriendly'] = int(1)\n",
    "result.loc[result['amenities'].str.contains('Air'), 'AirConditioning'] = int(1)\n",
    "result.loc[result['amenities'].str.contains('Kitchen'), 'Kitchen'] = int(1)\n",
    "result.loc[result['amenities'].str.contains('Internet'), 'Internet'] = int(1)     \n",
    "result.loc[result['amenities'].str.contains('Essentials'), 'Essentials'] = int(1)\n",
    "result.loc[result['amenities'].str.contains('TV'), 'TV'] = int(1)\n",
    "result.loc[result['amenities'].str.contains('Pets'), 'PetsFriendly'] = int(1)\n",
    "result.loc[result['amenities'].str.contains('Smoke'), 'SmokeDetector'] = int(1)\n",
    "result.loc[result['amenities'].str.contains('Breakfast'), 'Breakfast'] = int(1)"
   ]
  },
  {
   "cell_type": "markdown",
   "id": "vulnerable-adolescent",
   "metadata": {},
   "source": [
    "# After the previous step, we can drop the 'Amenities ' column."
   ]
  },
  {
   "cell_type": "code",
   "execution_count": 60,
   "id": "settled-presence",
   "metadata": {},
   "outputs": [],
   "source": [
    "result = result.drop(['amenities'], axis = 1) "
   ]
  },
  {
   "cell_type": "markdown",
   "id": "governing-glasgow",
   "metadata": {},
   "source": [
    "# Checking columns having null values"
   ]
  },
  {
   "cell_type": "code",
   "execution_count": 61,
   "id": "realistic-concrete",
   "metadata": {},
   "outputs": [
    {
     "name": "stdout",
     "output_type": "stream",
     "text": [
      "property_type 0\n",
      "room_type 0\n",
      "accommodates 0\n",
      "bathrooms 200\n",
      "bed_type 0\n",
      "cancellation_policy 0\n",
      "cleaning_fee 0\n",
      "city 0\n",
      "host_has_profile_pic 188\n",
      "host_identity_verified 188\n",
      "host_response_rate 18299\n",
      "instant_bookable 0\n",
      "number_of_reviews 0\n",
      "review_scores_rating 16722\n",
      "bedrooms 91\n",
      "beds 131\n",
      "log_price 24111\n",
      "host_year 188\n",
      "remove 0\n",
      "Internet 0\n",
      "AirConditioning 0\n",
      "Kitchen 0\n",
      "FamilyFriendly 0\n",
      "Essentials 0\n",
      "TV 0\n",
      "PetsFriendly 0\n",
      "Breakfast 0\n",
      "SmokeDetector 0\n"
     ]
    }
   ],
   "source": [
    "for i in result.columns:\n",
    "    \n",
    "    print(i, result[i].isna().sum())"
   ]
  },
  {
   "cell_type": "markdown",
   "id": "hispanic-format",
   "metadata": {},
   "source": [
    "# Filling up the Review Scores Rating and scaling the column values in the scale of 0 to 1"
   ]
  },
  {
   "cell_type": "code",
   "execution_count": 62,
   "id": "quantitative-indiana",
   "metadata": {},
   "outputs": [
    {
     "data": {
      "text/plain": [
       "0    1.00\n",
       "1    0.93\n",
       "2    0.92\n",
       "3    0.96\n",
       "4    0.40\n",
       "Name: review_scores_rating, dtype: float64"
      ]
     },
     "execution_count": 62,
     "metadata": {},
     "output_type": "execute_result"
    }
   ],
   "source": [
    "result['review_scores_rating'].fillna((result['review_scores_rating'].median()), inplace=True)\n",
    "result['review_scores_rating']=result['review_scores_rating']/100\n",
    "result['review_scores_rating'].head()"
   ]
  },
  {
   "cell_type": "markdown",
   "id": "supposed-indication",
   "metadata": {},
   "source": [
    "# Host response rate from percentage character to converting it into float and filling up null values in the column by its mean"
   ]
  },
  {
   "cell_type": "code",
   "execution_count": 63,
   "id": "continuing-vertical",
   "metadata": {},
   "outputs": [],
   "source": [
    "result[\"host_response_rate\"] = result[\"host_response_rate\"].fillna(-1)\n",
    "result[\"host_response_rate\"] = result[\"host_response_rate\"].str.rstrip('%')\n",
    "result[\"host_response_rate\"] = result[\"host_response_rate\"].astype(float)\n",
    "result[\"host_response_rate\"] = result[\"host_response_rate\"].astype(str)\n",
    "result[\"host_response_rate\"] = result[\"host_response_rate\"].replace('-1', np.nan)\n",
    "\n",
    "result[\"host_response_rate\"] = result[\"host_response_rate\"].astype(float)\n",
    "result[\"host_response_rate\"].mean()\n",
    "result[\"host_response_rate\"].median()\n",
    "result['host_response_rate'] = result['host_response_rate'].fillna((result['host_response_rate'].mean()))"
   ]
  },
  {
   "cell_type": "markdown",
   "id": "amber-complexity",
   "metadata": {},
   "source": [
    "# Filling up New Variable Created Column Host year with its median "
   ]
  },
  {
   "cell_type": "code",
   "execution_count": 64,
   "id": "electric-mouth",
   "metadata": {},
   "outputs": [],
   "source": [
    "result['host_year'].fillna((result['host_year'].median()), inplace=True)"
   ]
  },
  {
   "cell_type": "code",
   "execution_count": 65,
   "id": "union-alpha",
   "metadata": {
    "scrolled": true
   },
   "outputs": [],
   "source": [
    "# train_data[\"host_since_timestamp\"] = train_data[\"host_since\"].apply(lambda x: datetime.timestamp(datetime.strptime(x, \"%m/%d/%Y\")) if not pd.isnull(x) else 0.0)"
   ]
  },
  {
   "cell_type": "markdown",
   "id": "recognized-lewis",
   "metadata": {},
   "source": [
    "# Filling up the null values of 'host_has_profile_picture' and 'host_identity_verified' with its median."
   ]
  },
  {
   "cell_type": "code",
   "execution_count": 66,
   "id": "right-bosnia",
   "metadata": {},
   "outputs": [
    {
     "data": {
      "text/plain": [
       "str"
      ]
     },
     "execution_count": 66,
     "metadata": {},
     "output_type": "execute_result"
    }
   ],
   "source": [
    "type(result['host_has_profile_pic'][0])"
   ]
  },
  {
   "cell_type": "code",
   "execution_count": 67,
   "id": "generic-clearance",
   "metadata": {},
   "outputs": [
    {
     "data": {
      "text/plain": [
       "188"
      ]
     },
     "execution_count": 67,
     "metadata": {},
     "output_type": "execute_result"
    }
   ],
   "source": [
    "result['host_identity_verified'].isna().sum()"
   ]
  },
  {
   "cell_type": "code",
   "execution_count": 68,
   "id": "interior-entity",
   "metadata": {},
   "outputs": [],
   "source": [
    "# result['host_identity_verified'].value_countsnts()"
   ]
  },
  {
   "cell_type": "code",
   "execution_count": 69,
   "id": "understanding-hundred",
   "metadata": {},
   "outputs": [],
   "source": [
    "# train_data[\"host_since_timestamp\"] = train_data[\"host_since\"].apply(lambda x: datetime.strptime(x, \"%m/%d/%Y\") if not pd.isnull(x) else 0.0)"
   ]
  },
  {
   "cell_type": "code",
   "execution_count": 70,
   "id": "loose-bishop",
   "metadata": {},
   "outputs": [],
   "source": [
    "result['host_has_profile_pic'].fillna(\"t\", inplace=True)"
   ]
  },
  {
   "cell_type": "code",
   "execution_count": 71,
   "id": "impaired-entrance",
   "metadata": {},
   "outputs": [],
   "source": [
    "result['host_identity_verified'].fillna(\"t\", inplace=True)"
   ]
  },
  {
   "cell_type": "markdown",
   "id": "congressional-knight",
   "metadata": {},
   "source": [
    "# Filling up the null values of bathrooms, bedrooms and beds with their column median"
   ]
  },
  {
   "cell_type": "code",
   "execution_count": 72,
   "id": "reliable-courtesy",
   "metadata": {},
   "outputs": [],
   "source": [
    "result['bathrooms'].fillna((result['bathrooms'].median()), inplace=True)\n",
    "result['bedrooms'].fillna((result['bedrooms'].median()), inplace=True)\n",
    "result['beds'].fillna((result['beds'].median()), inplace=True)\n",
    "\n"
   ]
  },
  {
   "cell_type": "code",
   "execution_count": 73,
   "id": "smaller-statistics",
   "metadata": {},
   "outputs": [],
   "source": [
    "# train_data[\"host_year\"]"
   ]
  },
  {
   "cell_type": "code",
   "execution_count": 74,
   "id": "surgical-saturn",
   "metadata": {},
   "outputs": [],
   "source": [
    "result1 = result.copy(deep=True)"
   ]
  },
  {
   "cell_type": "markdown",
   "id": "weekly-reggae",
   "metadata": {},
   "source": [
    "# Checking the data types of those columns"
   ]
  },
  {
   "cell_type": "code",
   "execution_count": 75,
   "id": "hired-memorabilia",
   "metadata": {},
   "outputs": [
    {
     "data": {
      "text/plain": [
       "property_type              object\n",
       "room_type                  object\n",
       "accommodates                int64\n",
       "bathrooms                 float64\n",
       "bed_type                   object\n",
       "cancellation_policy        object\n",
       "cleaning_fee                 bool\n",
       "city                       object\n",
       "host_has_profile_pic       object\n",
       "host_identity_verified     object\n",
       "host_response_rate        float64\n",
       "instant_bookable           object\n",
       "number_of_reviews           int64\n",
       "review_scores_rating      float64\n",
       "bedrooms                  float64\n",
       "beds                      float64\n",
       "log_price                 float64\n",
       "host_year                 float64\n",
       "remove                     object\n",
       "Internet                    int64\n",
       "AirConditioning             int64\n",
       "Kitchen                     int64\n",
       "FamilyFriendly              int64\n",
       "Essentials                  int64\n",
       "TV                          int64\n",
       "PetsFriendly                int64\n",
       "Breakfast                   int64\n",
       "SmokeDetector               int64\n",
       "dtype: object"
      ]
     },
     "execution_count": 75,
     "metadata": {},
     "output_type": "execute_result"
    }
   ],
   "source": [
    "result.dtypes"
   ]
  },
  {
   "cell_type": "code",
   "execution_count": null,
   "id": "formed-function",
   "metadata": {},
   "outputs": [],
   "source": []
  },
  {
   "cell_type": "code",
   "execution_count": 76,
   "id": "alpine-leather",
   "metadata": {},
   "outputs": [
    {
     "data": {
      "text/plain": [
       "True     54402\n",
       "False    19708\n",
       "Name: cleaning_fee, dtype: int64"
      ]
     },
     "execution_count": 76,
     "metadata": {},
     "output_type": "execute_result"
    }
   ],
   "source": [
    "result['cleaning_fee'].value_counts()"
   ]
  },
  {
   "cell_type": "markdown",
   "id": "printable-blank",
   "metadata": {},
   "source": [
    "# One hot encoding categorical variables, as it will increase the model prediction accuarcy"
   ]
  },
  {
   "cell_type": "code",
   "execution_count": 77,
   "id": "defensive-single",
   "metadata": {},
   "outputs": [],
   "source": [
    "def encode_and_bind(original_dataframe, feature_to_encode):\n",
    "    dummies = pd.get_dummies(original_dataframe[feature_to_encode], prefix = feature_to_encode, drop_first=True)\n",
    "    res = pd.concat([original_dataframe, dummies], axis=1)\n",
    "    res = res.drop([feature_to_encode], axis=1)\n",
    "    return(res) \n",
    "\n",
    "features_to_encode = ['city', 'property_type', 'room_type','bed_type', 'cancellation_policy', 'cleaning_fee', 'host_has_profile_pic', 'host_identity_verified', 'instant_bookable']\n",
    "for feature in features_to_encode:\n",
    "    result1 = encode_and_bind(result1, feature)"
   ]
  },
  {
   "cell_type": "code",
   "execution_count": 78,
   "id": "african-jacksonville",
   "metadata": {},
   "outputs": [],
   "source": [
    "# dummies"
   ]
  },
  {
   "cell_type": "code",
   "execution_count": 79,
   "id": "detailed-arbor",
   "metadata": {},
   "outputs": [],
   "source": [
    "res = pd.get_dummies(result['city'])"
   ]
  },
  {
   "cell_type": "code",
   "execution_count": null,
   "id": "solved-dividend",
   "metadata": {},
   "outputs": [],
   "source": []
  },
  {
   "cell_type": "code",
   "execution_count": 80,
   "id": "gorgeous-denver",
   "metadata": {},
   "outputs": [
    {
     "data": {
      "text/plain": [
       "(74110, 28)"
      ]
     },
     "execution_count": 80,
     "metadata": {},
     "output_type": "execute_result"
    }
   ],
   "source": [
    "result.shape"
   ]
  },
  {
   "cell_type": "markdown",
   "id": "golden-holiday",
   "metadata": {},
   "source": [
    "# Checking the data types of those columns"
   ]
  },
  {
   "cell_type": "code",
   "execution_count": 81,
   "id": "senior-transcript",
   "metadata": {},
   "outputs": [
    {
     "data": {
      "text/plain": [
       "accommodates                             int64\n",
       "bathrooms                              float64\n",
       "host_response_rate                     float64\n",
       "number_of_reviews                        int64\n",
       "review_scores_rating                   float64\n",
       "                                        ...   \n",
       "cancellation_policy_super_strict_60      uint8\n",
       "cleaning_fee_True                        uint8\n",
       "host_has_profile_pic_t                   uint8\n",
       "host_identity_verified_t                 uint8\n",
       "instant_bookable_t                       uint8\n",
       "Length: 72, dtype: object"
      ]
     },
     "execution_count": 81,
     "metadata": {},
     "output_type": "execute_result"
    }
   ],
   "source": [
    "result1.dtypes"
   ]
  },
  {
   "cell_type": "markdown",
   "id": "linear-chrome",
   "metadata": {},
   "source": [
    "# Checking newly generated columns through one hot encoding"
   ]
  },
  {
   "cell_type": "code",
   "execution_count": 82,
   "id": "apart-terminal",
   "metadata": {},
   "outputs": [
    {
     "data": {
      "text/plain": [
       "Index(['accommodates', 'bathrooms', 'host_response_rate', 'number_of_reviews',\n",
       "       'review_scores_rating', 'bedrooms', 'beds', 'log_price', 'host_year',\n",
       "       'remove', 'Internet', 'AirConditioning', 'Kitchen', 'FamilyFriendly',\n",
       "       'Essentials', 'TV', 'PetsFriendly', 'Breakfast', 'SmokeDetector',\n",
       "       'city_Chicago', 'city_DC', 'city_LA', 'city_NYC', 'city_SF',\n",
       "       'property_type_Bed & Breakfast', 'property_type_Boat',\n",
       "       'property_type_Boutique hotel', 'property_type_Bungalow',\n",
       "       'property_type_Cabin', 'property_type_Camper/RV',\n",
       "       'property_type_Casa particular', 'property_type_Castle',\n",
       "       'property_type_Cave', 'property_type_Chalet',\n",
       "       'property_type_Condominium', 'property_type_Dorm',\n",
       "       'property_type_Earth House', 'property_type_Guest suite',\n",
       "       'property_type_Guesthouse', 'property_type_Hostel',\n",
       "       'property_type_House', 'property_type_Hut', 'property_type_In-law',\n",
       "       'property_type_Island', 'property_type_Lighthouse',\n",
       "       'property_type_Loft', 'property_type_Other',\n",
       "       'property_type_Parking Space', 'property_type_Serviced apartment',\n",
       "       'property_type_Tent', 'property_type_Timeshare', 'property_type_Tipi',\n",
       "       'property_type_Townhouse', 'property_type_Train',\n",
       "       'property_type_Treehouse', 'property_type_Vacation home',\n",
       "       'property_type_Villa', 'property_type_Yurt', 'room_type_Private room',\n",
       "       'room_type_Shared room', 'bed_type_Couch', 'bed_type_Futon',\n",
       "       'bed_type_Pull-out Sofa', 'bed_type_Real Bed',\n",
       "       'cancellation_policy_moderate', 'cancellation_policy_strict',\n",
       "       'cancellation_policy_super_strict_30',\n",
       "       'cancellation_policy_super_strict_60', 'cleaning_fee_True',\n",
       "       'host_has_profile_pic_t', 'host_identity_verified_t',\n",
       "       'instant_bookable_t'],\n",
       "      dtype='object')"
      ]
     },
     "execution_count": 82,
     "metadata": {},
     "output_type": "execute_result"
    }
   ],
   "source": [
    "result1.columns"
   ]
  },
  {
   "cell_type": "markdown",
   "id": "urban-festival",
   "metadata": {},
   "source": [
    "# Converting certain possible values of columns into category"
   ]
  },
  {
   "cell_type": "code",
   "execution_count": 83,
   "id": "nasty-magnet",
   "metadata": {},
   "outputs": [],
   "source": [
    "for i in ['Internet', 'AirConditioning', 'Kitchen', 'FamilyFriendly','Essentials', 'TV','PetsFriendly','Breakfast','SmokeDetector']:   \n",
    "    result1[i] = result1[i].astype('category')"
   ]
  },
  {
   "cell_type": "code",
   "execution_count": 84,
   "id": "necessary-mexican",
   "metadata": {},
   "outputs": [
    {
     "data": {
      "text/plain": [
       "accommodates                             int64\n",
       "bathrooms                              float64\n",
       "host_response_rate                     float64\n",
       "number_of_reviews                        int64\n",
       "review_scores_rating                   float64\n",
       "                                        ...   \n",
       "cancellation_policy_super_strict_60      uint8\n",
       "cleaning_fee_True                        uint8\n",
       "host_has_profile_pic_t                   uint8\n",
       "host_identity_verified_t                 uint8\n",
       "instant_bookable_t                       uint8\n",
       "Length: 72, dtype: object"
      ]
     },
     "execution_count": 84,
     "metadata": {},
     "output_type": "execute_result"
    }
   ],
   "source": [
    "result1.dtypes"
   ]
  },
  {
   "cell_type": "markdown",
   "id": "continental-portuguese",
   "metadata": {},
   "source": [
    "# Separating the train and test data from its combined form which was done for data cleaning"
   ]
  },
  {
   "cell_type": "code",
   "execution_count": 85,
   "id": "stone-speed",
   "metadata": {},
   "outputs": [],
   "source": [
    "train_result = result1[result1['remove']=='train']"
   ]
  },
  {
   "cell_type": "code",
   "execution_count": 86,
   "id": "respected-stand",
   "metadata": {},
   "outputs": [],
   "source": [
    "xtrain1 = train_result.drop(['remove', 'log_price'], axis = 1)\n",
    "ytrain1 = train_result['log_price']"
   ]
  },
  {
   "cell_type": "code",
   "execution_count": 87,
   "id": "acquired-adaptation",
   "metadata": {},
   "outputs": [
    {
     "name": "stdout",
     "output_type": "stream",
     "text": [
      "(49999, 70) (49999,)\n"
     ]
    }
   ],
   "source": [
    "print(xtrain1.shape, ytrain1.shape)"
   ]
  },
  {
   "cell_type": "code",
   "execution_count": 88,
   "id": "environmental-tyler",
   "metadata": {},
   "outputs": [],
   "source": [
    "test_result = result1[result1['remove']=='test']"
   ]
  },
  {
   "cell_type": "code",
   "execution_count": 89,
   "id": "nuclear-subdivision",
   "metadata": {},
   "outputs": [],
   "source": [
    "X_test = test_result.drop(['remove', 'log_price'], axis = 1)\n",
    "y_test = test_result['log_price']"
   ]
  },
  {
   "cell_type": "code",
   "execution_count": null,
   "id": "tough-philosophy",
   "metadata": {},
   "outputs": [],
   "source": []
  },
  {
   "cell_type": "markdown",
   "id": "suited-middle",
   "metadata": {},
   "source": [
    "# Train, validation, test split "
   ]
  },
  {
   "cell_type": "code",
   "execution_count": 91,
   "id": "independent-albuquerque",
   "metadata": {},
   "outputs": [],
   "source": [
    "from sklearn.model_selection import train_test_split\n",
    "X_train, X_val, y_train, y_val = train_test_split(xtrain1, ytrain1, test_size=0.33, random_state=42)"
   ]
  },
  {
   "cell_type": "code",
   "execution_count": 92,
   "id": "patent-parts",
   "metadata": {
    "scrolled": true
   },
   "outputs": [
    {
     "name": "stdout",
     "output_type": "stream",
     "text": [
      "(33499, 70) (16500, 70)\n",
      "(33499,) (16500,)\n"
     ]
    }
   ],
   "source": [
    "print(X_train.shape, X_val.shape)\n",
    "print(y_train.shape, y_val.shape)"
   ]
  },
  {
   "cell_type": "markdown",
   "id": "valid-fraud",
   "metadata": {},
   "source": [
    "# Model building "
   ]
  },
  {
   "cell_type": "markdown",
   "id": "fancy-frederick",
   "metadata": {},
   "source": [
    "## Linear Regression Model"
   ]
  },
  {
   "cell_type": "code",
   "execution_count": 93,
   "id": "legislative-story",
   "metadata": {},
   "outputs": [],
   "source": [
    "from sklearn.linear_model import LinearRegression\n",
    "reg = LinearRegression().fit(X_train, y_train)"
   ]
  },
  {
   "cell_type": "code",
   "execution_count": 94,
   "id": "logical-desktop",
   "metadata": {},
   "outputs": [],
   "source": [
    "y_pred = reg.predict(X_val)"
   ]
  },
  {
   "cell_type": "code",
   "execution_count": 95,
   "id": "grateful-compilation",
   "metadata": {},
   "outputs": [],
   "source": [
    "from sklearn.metrics import mean_squared_error"
   ]
  },
  {
   "cell_type": "code",
   "execution_count": 96,
   "id": "olive-temperature",
   "metadata": {},
   "outputs": [],
   "source": [
    "errors = mean_squared_error(y_val, y_pred)"
   ]
  },
  {
   "cell_type": "code",
   "execution_count": 97,
   "id": "revolutionary-rocket",
   "metadata": {},
   "outputs": [
    {
     "data": {
      "text/plain": [
       "0.2160674477908023"
      ]
     },
     "execution_count": 97,
     "metadata": {},
     "output_type": "execute_result"
    }
   ],
   "source": [
    "errors"
   ]
  },
  {
   "cell_type": "code",
   "execution_count": 98,
   "id": "incident-power",
   "metadata": {
    "scrolled": true
   },
   "outputs": [
    {
     "name": "stdout",
     "output_type": "stream",
     "text": [
      "0.5801528890270633\n"
     ]
    }
   ],
   "source": [
    "print(reg.score(X_val, y_val))"
   ]
  },
  {
   "cell_type": "markdown",
   "id": "twenty-stanford",
   "metadata": {},
   "source": [
    "Model MSE 0.21, RMSE sqrt(MSE) = 0.465"
   ]
  },
  {
   "cell_type": "markdown",
   "id": "prompt-question",
   "metadata": {},
   "source": [
    "# Ridge Model "
   ]
  },
  {
   "cell_type": "code",
   "execution_count": 99,
   "id": "pressed-withdrawal",
   "metadata": {},
   "outputs": [],
   "source": [
    "from sklearn.linear_model import LinearRegression, Ridge\n",
    "from sklearn.model_selection import train_test_split, cross_val_score \n",
    "from statistics import mean "
   ]
  },
  {
   "cell_type": "code",
   "execution_count": 100,
   "id": "cardiovascular-burst",
   "metadata": {},
   "outputs": [
    {
     "name": "stdout",
     "output_type": "stream",
     "text": [
      "0.5804775198806627\n"
     ]
    }
   ],
   "source": [
    "\n",
    "# Building and fitting the Ridge Regression model \n",
    "ridgeModelChosen = Ridge(alpha = 8) \n",
    "ridgeModelChosen.fit(X_train, y_train) \n",
    "  \n",
    "# Evaluating the Ridge Regression model \n",
    "print(ridgeModelChosen.score(X_val, y_val)) \n"
   ]
  },
  {
   "cell_type": "markdown",
   "id": "adjacent-dependence",
   "metadata": {},
   "source": [
    "Model Accuracy Ridge Model = 58.05%"
   ]
  },
  {
   "cell_type": "code",
   "execution_count": null,
   "id": "foreign-questionnaire",
   "metadata": {},
   "outputs": [],
   "source": []
  },
  {
   "cell_type": "markdown",
   "id": "imposed-proposal",
   "metadata": {},
   "source": [
    "# Random Forest Regressor model"
   ]
  },
  {
   "cell_type": "code",
   "execution_count": 102,
   "id": "extensive-murder",
   "metadata": {},
   "outputs": [],
   "source": [
    "from sklearn.metrics import mean_squared_error"
   ]
  },
  {
   "cell_type": "code",
   "execution_count": 103,
   "id": "apparent-congress",
   "metadata": {},
   "outputs": [],
   "source": [
    "from sklearn.ensemble import RandomForestRegressor"
   ]
  },
  {
   "cell_type": "code",
   "execution_count": 104,
   "id": "variable-atmosphere",
   "metadata": {},
   "outputs": [],
   "source": [
    "rfr = RandomForestRegressor().fit(X_train, y_train)"
   ]
  },
  {
   "cell_type": "code",
   "execution_count": 105,
   "id": "consecutive-farming",
   "metadata": {},
   "outputs": [],
   "source": [
    "y_pred = rfr.predict(X_val)"
   ]
  },
  {
   "cell_type": "code",
   "execution_count": 106,
   "id": "invisible-public",
   "metadata": {},
   "outputs": [],
   "source": [
    "errors = mean_squared_error(y_val, y_pred)"
   ]
  },
  {
   "cell_type": "code",
   "execution_count": 107,
   "id": "magnetic-stake",
   "metadata": {},
   "outputs": [
    {
     "data": {
      "text/plain": [
       "0.19789500425529696"
      ]
     },
     "execution_count": 107,
     "metadata": {},
     "output_type": "execute_result"
    }
   ],
   "source": [
    "errors"
   ]
  },
  {
   "cell_type": "code",
   "execution_count": 108,
   "id": "straight-poker",
   "metadata": {},
   "outputs": [
    {
     "name": "stdout",
     "output_type": "stream",
     "text": [
      "0.6154643068075325\n"
     ]
    }
   ],
   "source": [
    "print(rfr.score(X_val, y_val))"
   ]
  },
  {
   "cell_type": "markdown",
   "id": "peripheral-montgomery",
   "metadata": {},
   "source": [
    "MSE = 0.198, RMSE sqrt(MSE) = 0.445 Accuracy = 61.54% (IMPROVED)"
   ]
  },
  {
   "cell_type": "markdown",
   "id": "latter-raising",
   "metadata": {},
   "source": [
    "# Grid Search the best parameters"
   ]
  },
  {
   "cell_type": "code",
   "execution_count": 109,
   "id": "irish-michael",
   "metadata": {},
   "outputs": [],
   "source": [
    "param_grid_rf = {\n",
    "\n",
    "                \"n_estimators\": [50,100, 130],\n",
    "                               \"max_depth\": range(3, 11, 1),\n",
    "    \"random_state\":[0,50,100]\n",
    "\n",
    "            }\n",
    "            # Creating an object of the Grid Search class\n",
    "grid= GridSearchCV(RandomForestRegressor(),param_grid_rf, verbose=3,cv=2,n_jobs=-1)\n",
    "            # finding the best parameters\n",
    "grid.fit(X_train, y_train)"
   ]
  },
  {
   "cell_type": "code",
   "execution_count": 110,
   "id": "royal-syria",
   "metadata": {},
   "outputs": [],
   "source": [
    "# grid.best_score_"
   ]
  },
  {
   "cell_type": "code",
   "execution_count": 111,
   "id": "fabulous-mechanics",
   "metadata": {},
   "outputs": [],
   "source": [
    "# grid.best_params_"
   ]
  },
  {
   "cell_type": "code",
   "execution_count": 112,
   "id": "convertible-pension",
   "metadata": {},
   "outputs": [],
   "source": [
    "gridreg = RandomForestRegressor(max_depth =  10, n_estimators= 130, random_state= 0)\n",
    "gridreg.fit(X_train,y_train)\n",
    "gridpred=gridreg.predict(X_val)"
   ]
  },
  {
   "cell_type": "code",
   "execution_count": 113,
   "id": "thorough-custom",
   "metadata": {},
   "outputs": [],
   "source": [
    "errors = mean_squared_error(y_val, gridpred)"
   ]
  },
  {
   "cell_type": "code",
   "execution_count": 114,
   "id": "surprising-definition",
   "metadata": {},
   "outputs": [
    {
     "data": {
      "text/plain": [
       "0.19604483224469704"
      ]
     },
     "execution_count": 114,
     "metadata": {},
     "output_type": "execute_result"
    }
   ],
   "source": [
    "errors"
   ]
  },
  {
   "cell_type": "code",
   "execution_count": 115,
   "id": "welsh-disclosure",
   "metadata": {},
   "outputs": [
    {
     "data": {
      "text/plain": [
       "0.6190594312994248"
      ]
     },
     "execution_count": 115,
     "metadata": {},
     "output_type": "execute_result"
    }
   ],
   "source": [
    "from sklearn.metrics import r2_score\n",
    "r2_score(y_val,gridpred)"
   ]
  },
  {
   "cell_type": "markdown",
   "id": "recreational-homework",
   "metadata": {},
   "source": [
    "MSE = 0.196, RMSE sqrt(MSE) = 0.442 Accuracy = 61.90% (IMPROVED)"
   ]
  },
  {
   "cell_type": "markdown",
   "id": "little-stamp",
   "metadata": {},
   "source": [
    "# Airbnb Price finalized model saving"
   ]
  },
  {
   "cell_type": "code",
   "execution_count": 116,
   "id": "possible-ferry",
   "metadata": {},
   "outputs": [],
   "source": [
    "import pickle\n",
    "filename = 'airbnb_price_finalized_model.pkl'\n",
    "pickle.dump(gridpred, open(filename, 'wb'))"
   ]
  },
  {
   "cell_type": "code",
   "execution_count": 118,
   "id": "capable-console",
   "metadata": {},
   "outputs": [],
   "source": [
    "gridtest=gridreg.predict(X_test)\n",
    "gridtest_pred = pd.Series(gridtest)\n"
   ]
  },
  {
   "cell_type": "code",
   "execution_count": 120,
   "id": "multiple-snake",
   "metadata": {},
   "outputs": [],
   "source": [
    "gridtest_pred.to_csv('Y_testpred.csv')"
   ]
  },
  {
   "cell_type": "code",
   "execution_count": null,
   "id": "suburban-boating",
   "metadata": {},
   "outputs": [],
   "source": [
    "X_train.to_csv('X_train.csv', header=False, index=False) \n",
    "y_train.to_csv('Y_train.csv', header=False, index=False)\n",
    "X_val.to_csv('X_val.csv', header=False, index=False)\n",
    "y_val.to_csv('Y_val.csv', header=False, index=False)"
   ]
  },
  {
   "cell_type": "code",
   "execution_count": null,
   "id": "surprising-graduation",
   "metadata": {},
   "outputs": [],
   "source": [
    "X_test.to_csv('X_test.csv', header=False, index=False)"
   ]
  },
  {
   "cell_type": "code",
   "execution_count": null,
   "id": "controlled-projector",
   "metadata": {},
   "outputs": [],
   "source": []
  },
  {
   "cell_type": "code",
   "execution_count": null,
   "id": "damaged-gibraltar",
   "metadata": {},
   "outputs": [],
   "source": []
  },
  {
   "cell_type": "code",
   "execution_count": null,
   "id": "measured-turtle",
   "metadata": {},
   "outputs": [],
   "source": []
  },
  {
   "cell_type": "code",
   "execution_count": null,
   "id": "individual-running",
   "metadata": {},
   "outputs": [],
   "source": []
  },
  {
   "cell_type": "code",
   "execution_count": null,
   "id": "decent-kernel",
   "metadata": {},
   "outputs": [],
   "source": []
  }
 ],
 "metadata": {
  "kernelspec": {
   "display_name": "Python 3",
   "language": "python",
   "name": "python3"
  },
  "language_info": {
   "codemirror_mode": {
    "name": "ipython",
    "version": 3
   },
   "file_extension": ".py",
   "mimetype": "text/x-python",
   "name": "python",
   "nbconvert_exporter": "python",
   "pygments_lexer": "ipython3",
   "version": "3.8.5"
  }
 },
 "nbformat": 4,
 "nbformat_minor": 5
}
